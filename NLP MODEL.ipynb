{
 "cells": [
  {
   "cell_type": "markdown",
   "metadata": {},
   "source": [
    "\n",
    "# 6. Build a content based movie recommender system with natural language processing.The function should take movie name as input and should return top 3 recommended movies.(Use Netflix dataset)"
   ]
  },
  {
   "cell_type": "code",
   "execution_count": 1,
   "metadata": {},
   "outputs": [],
   "source": [
    "## importing important packages \n",
    "import pandas as pd\n",
    "import numpy as np\n",
    "import matplotlib.pyplot as plt\n",
    "import re\n",
    "import warnings\n",
    "from sklearn.feature_extraction.text import CountVectorizer\n",
    "from sklearn.ensemble import RandomForestClassifier\n",
    "from nltk.corpus import stopwords\n",
    "from nltk.stem.porter import PorterStemmer\n",
    "from sklearn.metrics.pairwise import cosine_similarity\n",
    "from sklearn.feature_extraction.text import CountVectorizer\n",
    "warnings.filterwarnings(\"ignore\")"
   ]
  },
  {
   "cell_type": "code",
   "execution_count": 2,
   "metadata": {},
   "outputs": [],
   "source": [
    "df=pd.read_csv('NETFLIX TITLES.csv')   ## importing the data"
   ]
  },
  {
   "cell_type": "code",
   "execution_count": 3,
   "metadata": {},
   "outputs": [
    {
     "data": {
      "text/html": [
       "<div>\n",
       "<style scoped>\n",
       "    .dataframe tbody tr th:only-of-type {\n",
       "        vertical-align: middle;\n",
       "    }\n",
       "\n",
       "    .dataframe tbody tr th {\n",
       "        vertical-align: top;\n",
       "    }\n",
       "\n",
       "    .dataframe thead th {\n",
       "        text-align: right;\n",
       "    }\n",
       "</style>\n",
       "<table border=\"1\" class=\"dataframe\">\n",
       "  <thead>\n",
       "    <tr style=\"text-align: right;\">\n",
       "      <th></th>\n",
       "      <th>show_id</th>\n",
       "      <th>type</th>\n",
       "      <th>title</th>\n",
       "      <th>director</th>\n",
       "      <th>cast</th>\n",
       "      <th>country</th>\n",
       "      <th>date_added</th>\n",
       "      <th>release_year</th>\n",
       "      <th>rating</th>\n",
       "      <th>duration</th>\n",
       "      <th>listed_in</th>\n",
       "      <th>description</th>\n",
       "    </tr>\n",
       "  </thead>\n",
       "  <tbody>\n",
       "    <tr>\n",
       "      <td>0</td>\n",
       "      <td>81088285</td>\n",
       "      <td>Movie</td>\n",
       "      <td>The Mayo Clinic</td>\n",
       "      <td>Ken Burns, Christopher Loren Ewers, Erik Ewers</td>\n",
       "      <td>Peter Coyote</td>\n",
       "      <td>United States</td>\n",
       "      <td>April 19, 2019</td>\n",
       "      <td>2018</td>\n",
       "      <td>TV-14</td>\n",
       "      <td>116 min</td>\n",
       "      <td>Documentaries</td>\n",
       "      <td>A look at how a world-renowned medical institu...</td>\n",
       "    </tr>\n",
       "    <tr>\n",
       "      <td>1</td>\n",
       "      <td>81077597</td>\n",
       "      <td>Movie</td>\n",
       "      <td>I Am</td>\n",
       "      <td>Onir</td>\n",
       "      <td>Juhi Chawla, Rahul Bose, Nandita Das, Sanjay S...</td>\n",
       "      <td>India, Japan</td>\n",
       "      <td>March 4, 2019</td>\n",
       "      <td>2010</td>\n",
       "      <td>TV-MA</td>\n",
       "      <td>106 min</td>\n",
       "      <td>Dramas, Independent Movies, International Movies</td>\n",
       "      <td>Four individuals in modern India grapple with ...</td>\n",
       "    </tr>\n",
       "    <tr>\n",
       "      <td>2</td>\n",
       "      <td>1150871</td>\n",
       "      <td>Movie</td>\n",
       "      <td>Love Jones</td>\n",
       "      <td>Theodore Witcher</td>\n",
       "      <td>Larenz Tate, Nia Long, Isaiah Washington, Lisa...</td>\n",
       "      <td>United States</td>\n",
       "      <td>November 1, 2019</td>\n",
       "      <td>1997</td>\n",
       "      <td>R</td>\n",
       "      <td>109 min</td>\n",
       "      <td>Comedies, Dramas, Independent Movies</td>\n",
       "      <td>In this urban romantic comedy set in Chicago, ...</td>\n",
       "    </tr>\n",
       "    <tr>\n",
       "      <td>3</td>\n",
       "      <td>20077944</td>\n",
       "      <td>Movie</td>\n",
       "      <td>Ghayal</td>\n",
       "      <td>Rajkumar Santoshi</td>\n",
       "      <td>Sunny Deol, Meenakshi Sheshadri, Amrish Puri, ...</td>\n",
       "      <td>India</td>\n",
       "      <td>December 31, 2019</td>\n",
       "      <td>1990</td>\n",
       "      <td>TV-14</td>\n",
       "      <td>163 min</td>\n",
       "      <td>Action &amp; Adventure, Dramas, International Movies</td>\n",
       "      <td>Framed for his older brother's murder, a boxer...</td>\n",
       "    </tr>\n",
       "    <tr>\n",
       "      <td>4</td>\n",
       "      <td>80223779</td>\n",
       "      <td>Movie</td>\n",
       "      <td>Marriage Story</td>\n",
       "      <td>Noah Baumbach</td>\n",
       "      <td>Scarlett Johansson, Adam Driver, Laura Dern, A...</td>\n",
       "      <td>United States, United Kingdom</td>\n",
       "      <td>December 6, 2019</td>\n",
       "      <td>2019</td>\n",
       "      <td>R</td>\n",
       "      <td>137 min</td>\n",
       "      <td>Dramas</td>\n",
       "      <td>Academy Award-nominated filmmaker Noah Baumbac...</td>\n",
       "    </tr>\n",
       "  </tbody>\n",
       "</table>\n",
       "</div>"
      ],
      "text/plain": [
       "    show_id   type            title  \\\n",
       "0  81088285  Movie  The Mayo Clinic   \n",
       "1  81077597  Movie             I Am   \n",
       "2   1150871  Movie       Love Jones   \n",
       "3  20077944  Movie           Ghayal   \n",
       "4  80223779  Movie   Marriage Story   \n",
       "\n",
       "                                         director  \\\n",
       "0  Ken Burns, Christopher Loren Ewers, Erik Ewers   \n",
       "1                                            Onir   \n",
       "2                                Theodore Witcher   \n",
       "3                               Rajkumar Santoshi   \n",
       "4                                   Noah Baumbach   \n",
       "\n",
       "                                                cast  \\\n",
       "0                                       Peter Coyote   \n",
       "1  Juhi Chawla, Rahul Bose, Nandita Das, Sanjay S...   \n",
       "2  Larenz Tate, Nia Long, Isaiah Washington, Lisa...   \n",
       "3  Sunny Deol, Meenakshi Sheshadri, Amrish Puri, ...   \n",
       "4  Scarlett Johansson, Adam Driver, Laura Dern, A...   \n",
       "\n",
       "                         country         date_added  release_year rating  \\\n",
       "0                  United States     April 19, 2019          2018  TV-14   \n",
       "1                   India, Japan      March 4, 2019          2010  TV-MA   \n",
       "2                  United States   November 1, 2019          1997      R   \n",
       "3                          India  December 31, 2019          1990  TV-14   \n",
       "4  United States, United Kingdom   December 6, 2019          2019      R   \n",
       "\n",
       "  duration                                         listed_in  \\\n",
       "0  116 min                                     Documentaries   \n",
       "1  106 min  Dramas, Independent Movies, International Movies   \n",
       "2  109 min              Comedies, Dramas, Independent Movies   \n",
       "3  163 min  Action & Adventure, Dramas, International Movies   \n",
       "4  137 min                                            Dramas   \n",
       "\n",
       "                                         description  \n",
       "0  A look at how a world-renowned medical institu...  \n",
       "1  Four individuals in modern India grapple with ...  \n",
       "2  In this urban romantic comedy set in Chicago, ...  \n",
       "3  Framed for his older brother's murder, a boxer...  \n",
       "4  Academy Award-nominated filmmaker Noah Baumbac...  "
      ]
     },
     "execution_count": 3,
     "metadata": {},
     "output_type": "execute_result"
    }
   ],
   "source": [
    "df.head()   ## checking the data in tab form"
   ]
  },
  {
   "cell_type": "code",
   "execution_count": 4,
   "metadata": {},
   "outputs": [
    {
     "data": {
      "text/plain": [
       "Index(['show_id', 'type', 'title', 'director', 'cast', 'country', 'date_added',\n",
       "       'release_year', 'rating', 'duration', 'listed_in', 'description'],\n",
       "      dtype='object')"
      ]
     },
     "execution_count": 4,
     "metadata": {},
     "output_type": "execute_result"
    }
   ],
   "source": [
    "df.columns  ## names of the columns"
   ]
  },
  {
   "cell_type": "code",
   "execution_count": 5,
   "metadata": {},
   "outputs": [],
   "source": [
    "## selecting only particular columns for bag of words"
   ]
  },
  {
   "cell_type": "code",
   "execution_count": 6,
   "metadata": {},
   "outputs": [],
   "source": [
    "df1=df[['type','director','title','director','cast','country','rating','listed_in','description']]"
   ]
  },
  {
   "cell_type": "code",
   "execution_count": 7,
   "metadata": {},
   "outputs": [],
   "source": [
    "df1.set_index('title',inplace=True)  ## setting the index to the name of title"
   ]
  },
  {
   "cell_type": "code",
   "execution_count": 8,
   "metadata": {},
   "outputs": [],
   "source": [
    "## converting the data in small letter\n",
    "df1 = df1.applymap(lambda s:s.lower() if type(s) == str else s)"
   ]
  },
  {
   "cell_type": "code",
   "execution_count": 9,
   "metadata": {},
   "outputs": [],
   "source": [
    "col_names=list(df1.columns)"
   ]
  },
  {
   "cell_type": "code",
   "execution_count": 10,
   "metadata": {},
   "outputs": [],
   "source": [
    "## create a single data corpus\n",
    "data = []\n",
    "for row in range(0,len(df1.index)):\n",
    "    data.append(' '.join(str(x) for x in df1.iloc[row,0:len(col_names)]))"
   ]
  },
  {
   "cell_type": "code",
   "execution_count": 11,
   "metadata": {},
   "outputs": [
    {
     "data": {
      "text/plain": [
       "'movie onir onir juhi chawla, rahul bose, nandita das, sanjay suri, manisha koirala, purab kohli, shernaz patel, abhimanyu singh, arjun mathur, radhika apte india, japan tv-ma dramas, independent movies, international movies four individuals in modern india grapple with their identities amid social taboos, trauma and brutal sexual discrimination in this quartet of stories.'"
      ]
     },
     "execution_count": 11,
     "metadata": {},
     "output_type": "execute_result"
    }
   ],
   "source": [
    "data[1]  ## checking first row paragraph "
   ]
  },
  {
   "cell_type": "code",
   "execution_count": 12,
   "metadata": {},
   "outputs": [],
   "source": [
    "## we are converting it into paragraph because it easy to convert into bag of words"
   ]
  },
  {
   "cell_type": "code",
   "execution_count": 13,
   "metadata": {},
   "outputs": [],
   "source": [
    "## more data cleaning like removing numbers and stop words\n",
    "ps = PorterStemmer()\n",
    "corpus = []\n",
    "for i in range(0, len(data)):\n",
    "    review = re.sub('[^a-zA-Z]', ' ', data[i])\n",
    "    review = review.lower()\n",
    "    review = review.split()\n",
    "    \n",
    "    review = [ps.stem(word) for word in review if not word in stopwords.words('english')]\n",
    "    review = ' '.join(review)\n",
    "    corpus.append(review)"
   ]
  },
  {
   "cell_type": "code",
   "execution_count": 14,
   "metadata": {},
   "outputs": [],
   "source": [
    "## implementing BAG OF WORDS\n",
    "CV = CountVectorizer()\n",
    "BOG = CV.fit_transform(corpus)"
   ]
  },
  {
   "cell_type": "code",
   "execution_count": 15,
   "metadata": {},
   "outputs": [],
   "source": [
    "## buliding the cosine similarity matrix\n",
    "CSM=cosine_similarity(BOG,BOG)"
   ]
  },
  {
   "cell_type": "code",
   "execution_count": 16,
   "metadata": {},
   "outputs": [
    {
     "data": {
      "text/plain": [
       "array([[1.        , 0.07142857, 0.07559289, ..., 0.06338657, 0.0985138 ,\n",
       "        0.04393748],\n",
       "       [0.07142857, 1.        , 0.15118579, ..., 0.10564428, 0.15762208,\n",
       "        0.08787496],\n",
       "       [0.07559289, 0.15118579, 1.        , ..., 0.        , 0.18766297,\n",
       "        0.09299811],\n",
       "       ...,\n",
       "       [0.06338657, 0.10564428, 0.        , ..., 1.        , 0.06993786,\n",
       "        0.15596257],\n",
       "       [0.0985138 , 0.15762208, 0.18766297, ..., 0.06993786, 1.        ,\n",
       "        0.07271792],\n",
       "       [0.04393748, 0.08787496, 0.09299811, ..., 0.15596257, 0.07271792,\n",
       "        1.        ]])"
      ]
     },
     "execution_count": 16,
     "metadata": {},
     "output_type": "execute_result"
    }
   ],
   "source": [
    "## checking cosine similarity matrix\n",
    "CSM"
   ]
  },
  {
   "cell_type": "code",
   "execution_count": 17,
   "metadata": {},
   "outputs": [],
   "source": [
    "indexs = pd.Series(df1.index)"
   ]
  },
  {
   "cell_type": "code",
   "execution_count": 18,
   "metadata": {},
   "outputs": [],
   "source": [
    "## defining a function to return the top 3 recommended movies \n",
    "def rec(name,CSM=CSM):\n",
    "    recommended=[]\n",
    "    INDEX=indexs[indexs==name].index[0]\n",
    "    SC=pd.Series(CSM[INDEX]).sort_values(ascending = False)\n",
    "    top_3=list(SC.iloc[1:4].index)\n",
    "    for i in top_3:\n",
    "        recommended.append(list(df1.index)[i])\n",
    "    return recommended"
   ]
  },
  {
   "cell_type": "code",
   "execution_count": 27,
   "metadata": {},
   "outputs": [],
   "source": [
    "## first way we have used BAG OF WORDS "
   ]
  },
  {
   "cell_type": "code",
   "execution_count": 28,
   "metadata": {},
   "outputs": [],
   "source": [
    "## now using TFIDF method to build the martix"
   ]
  },
  {
   "cell_type": "code",
   "execution_count": 29,
   "metadata": {},
   "outputs": [],
   "source": [
    "from sklearn.feature_extraction.text import TfidfVectorizer\n",
    "cv = TfidfVectorizer()\n",
    "X = cv.fit_transform(corpus)\n",
    "CSM1=cosine_similarity(X,X)\n"
   ]
  },
  {
   "cell_type": "code",
   "execution_count": 30,
   "metadata": {},
   "outputs": [],
   "source": [
    "def rec2(name,CSM1=CSM1):\n",
    "    recommended=[]\n",
    "    INDEX=indexs[indexs==name].index[0]\n",
    "    SC=pd.Series(CSM[INDEX]).sort_values(ascending = False)\n",
    "    top_3=list(SC.iloc[1:4].index)\n",
    "    for i in top_3:\n",
    "        recommended.append(list(df1.index)[i])\n",
    "    return recommended"
   ]
  },
  {
   "cell_type": "code",
   "execution_count": 31,
   "metadata": {},
   "outputs": [
    {
     "data": {
      "text/plain": [
       "['Pukar', 'Barsaat', 'Mandi']"
      ]
     },
     "execution_count": 31,
     "metadata": {},
     "output_type": "execute_result"
    }
   ],
   "source": [
    "rec('Ghayal')"
   ]
  },
  {
   "cell_type": "code",
   "execution_count": 32,
   "metadata": {},
   "outputs": [
    {
     "data": {
      "text/plain": [
       "['Incredibles 2 (Spanish Version)', \"Pee-wee's Big Holiday\", 'Stuart Little']"
      ]
     },
     "execution_count": 32,
     "metadata": {},
     "output_type": "execute_result"
    }
   ],
   "source": [
    "rec2('The Incredibles 2')"
   ]
  },
  {
   "cell_type": "code",
   "execution_count": null,
   "metadata": {},
   "outputs": [],
   "source": []
  }
 ],
 "metadata": {
  "kernelspec": {
   "display_name": "Python 3",
   "language": "python",
   "name": "python3"
  },
  "language_info": {
   "codemirror_mode": {
    "name": "ipython",
    "version": 3
   },
   "file_extension": ".py",
   "mimetype": "text/x-python",
   "name": "python",
   "nbconvert_exporter": "python",
   "pygments_lexer": "ipython3",
   "version": "3.7.4"
  }
 },
 "nbformat": 4,
 "nbformat_minor": 2
}
